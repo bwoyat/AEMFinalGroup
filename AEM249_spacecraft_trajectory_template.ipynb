{
 "cells": [
  {
   "cell_type": "markdown",
   "metadata": {},
   "source": [
    "# AEM 249: Spacecraft Trajectory Simulator\n",
    "**Group Members (Name and CWID)**:\n",
    "- *[Benjamin Woyat 12457900]*  \n",
    "- *[Member 2 Name and CWID ]*  \n",
    "- *[Member 3 Name and CWID ]*  \n",
    "- *[Member 4 Name and CWID ]* "
   ]
  },
  {
   "cell_type": "markdown",
   "metadata": {},
   "source": [
    "## 1. Physics Model\n",
    "### Governing Equations\n",
    "Acceleration of spacecraft at position $\\mathbf{r} = (x, y)$:\n",
    "$$\n",
    "\\vec{a} = \\left( \\frac{G M}{r^3} \\right) \\vec{r}\n",
    "$$\n",
    "\n",
    "**Key Parameters**:\n",
    "- Earth radius $R_\\text{Earth} = 6,371 \\text{ km}$\n",
    "- Standard gravitational parameter $\\mu = GM_\\text{Earth} = 3.986 \\times 10^{14} \\text{ m}^3/\\text{s}^2$"
   ]
  },
  {
   "cell_type": "code",
   "execution_count": 2,
   "metadata": {},
   "outputs": [],
   "source": [
    "import numpy as np\n",
    "import matplotlib.pyplot as plt\n",
    "%matplotlib inline\n",
    "\n",
    "# Constants\n",
    "MU = 3.986e14          # Earth's gravitational parameter (m^3/s^2)\n",
    "R_EARTH = 6.371e6      # Earth radius (m)\n",
    "ALTITUDE_LEO = 400e3   # LEO altitude (m)"
   ]
  },
  {
   "cell_type": "markdown",
   "metadata": {},
   "source": [
    "## 2. Core Functions\n",
    "### 2.1 Acceleration Calculator"
   ]
  },
  {
   "cell_type": "code",
   "execution_count": null,
   "metadata": {},
   "outputs": [],
   "source": [
    "def compute_acceleration(position):\n",
    "    \"\"\"\n",
    "    Parameters:\n",
    "        position: [x, y] in meters\n",
    "    Returns:\n",
    "        [a_x, a_y] in m/s^2, represented by numpy array\n",
    "    \"\"\"\n",
    "   \n",
    "    return acceleration\n",
    "    "
   ]
  },
  {
   "cell_type": "markdown",
   "metadata": {},
   "source": [
    "### 2.2 Trajectory Simulator"
   ]
  },
  {
   "cell_type": "code",
   "execution_count": null,
   "metadata": {},
   "outputs": [],
   "source": [
    "def simulate_spacecraft(initial_pos, initial_vel, dt=1, t_total=10000):\n",
    "    \"\"\"\n",
    "    Simulates for t_total seconds (1.5 hrs = ~1 LEO orbit).\n",
    "    Parameterss: initial_pos in meters, initial_vel in m/s, dt in seconds, t_total\n",
    "    Return: trajectory \n",
    "    \"\"\"\n",
    "    \n",
    "            \n",
    "    return np.array(trajectory)   # using numpy array to store the trajecotry"
   ]
  },
  {
   "cell_type": "markdown",
   "metadata": {},
   "source": [
    "### 2.3 Energy computation"
   ]
  },
  {
   "cell_type": "code",
   "execution_count": null,
   "metadata": {},
   "outputs": [],
   "source": [
    "def calculate_energy(trajectory,dt):\n",
    "    \"\"\"Computes kinetic, potential, and total energy, given a trajectory\"\"\"\n",
    "    velocities =   # Approximate velocity using difference, which can be computed using np.diff\n",
    "    \n",
    "    \n",
    "    return kinetic, potential, total"
   ]
  },
  {
   "cell_type": "markdown",
   "metadata": {},
   "source": [
    "## 3. Test Cases\n",
    "### Test Case 1: Stable LEO (Circular Orbit)"
   ]
  },
  {
   "cell_type": "code",
   "execution_count": 4,
   "metadata": {},
   "outputs": [
    {
     "name": "stderr",
     "output_type": "stream",
     "text": [
      "No artists with labels found to put in legend.  Note that artists whose label start with an underscore are ignored when legend() is called with no argument.\n"
     ]
    },
    {
     "data": {
      "image/png": "[encoded data removed]",
      "text/plain": [
       "<Figure size 800x800 with 1 Axes>"
      ]
     },
     "metadata": {},
     "output_type": "display_data"
    }
   ],
   "source": [
    "# Initial conditions for LEO\n",
    "initial_pos = [R_EARTH + ALTITUDE_LEO, 0.0]\n",
    "initial_vel = [0.0, 7670.0]  # m/s\n",
    "\n",
    "# Simulate\n",
    "\n",
    "\n",
    "# Plot\n",
    "\n",
    "plt.figure(figsize=(8, 8))\n",
    "# plot your trajectory here \n",
    "\n",
    "plt.gca().add_patch(plt.Circle((0, 0), R_EARTH, color='blue', alpha=0.2))  # please includie this line to plot the earth\n",
    "plt.title(\"LEO Trajectory\")\n",
    "plt.legend()\n",
    "plt.grid(True)\n",
    "plt.show()\n"
   ]
  },
  {
   "cell_type": "code",
   "execution_count": null,
   "metadata": {},
   "outputs": [],
   "source": [
    "# compute and plot the energy\n",
    "\n",
    "# compute the potential, kinetic and total energy\n",
    "\n",
    "plt.figure()\n",
    "plt.plot(kinetic, label=\"Kinetic\")\n",
    "plt.plot(potential, label=\"Potential\")\n",
    "plt.plot(total_energy, label=\"Total\")\n",
    "plt.title(\"Energy Conservation in LEO\")\n",
    "plt.xlabel(\"Time Step\")\n",
    "plt.ylabel(\"Energy (J/kg)\")\n",
    "plt.legend()  # please including the legends \n",
    "plt.grid(True)\n",
    "plt.show()"
   ]
  },
  {
   "cell_type": "markdown",
   "metadata": {},
   "source": [
    "### Test Case 2: Re-Entry (Suborbital)"
   ]
  },
  {
   "cell_type": "code",
   "execution_count": null,
   "metadata": {},
   "outputs": [],
   "source": [
    "initial_pos_reentry = [R_EARTH + 400e3, 0.0]  # 400 km altitude\n",
    "initial_vel_reentry = [0.0, 7500.0]             # 7.5 km/s"
   ]
  },
  {
   "cell_type": "markdown",
   "metadata": {},
   "source": [
    "### Test Case 3: Escape (Suborbital)"
   ]
  },
  {
   "cell_type": "markdown",
   "metadata": {
    "tags": []
   },
   "source": [
    "## 4. Analysis Tasks\n",
    "### 4.1 For the stable LEO (test case 1), compute the orbit period and compare it with theoretical value $T = 2\\pi \\sqrt{a^3/\\mu}$.  "
   ]
  },
  {
   "cell_type": "code",
   "execution_count": null,
   "metadata": {},
   "outputs": [],
   "source": [
    " def calculate_period(trajectory, dt):\n",
    "    \"\"\"\n",
    "    Compute orbital period from trajectory data, assuming y starts from 0.\n",
    "    Args:\n",
    "        trajectory: Array of [x, y] positions.\n",
    "        dt: Time step (s).\n",
    "    Returns:\n",
    "        Period (s) or None if no full orbit detected.\n",
    "    \"\"\"\n",
    "    # Find when the spacecraft crosses the initial position (+x-axis)\n",
    "    crossing_times = []\n",
    "    for i in range(1, len(trajectory)):\n",
    "        # Check if y-coordinate changed sign (crossing x-axis)\n",
    "        if (trajectory[i-1, 1] * trajectory[i, 1] < 0) and (trajectory[i, 0] > 0):\n",
    "            crossing_times.append(i * dt)\n",
    "    \n",
    "    if len(crossing_times) >= 2:\n",
    "        return crossing_times[1] - crossing_times[0]  # Time between first two crossings\n",
    "    else:\n",
    "        print(\"Insufficient data for period calculation.\")\n",
    "        return None\n"
   ]
  },
  {
   "cell_type": "code",
   "execution_count": null,
   "metadata": {},
   "outputs": [],
   "source": [
    "# compute the simulated period and compare it with theoretical value\n",
    "\n",
    "\n",
    "print(f'Period of LEO orbit: simulated: {T_simulated:.3f} minutes; theoretical: {T_theoretical:.3f} minutes') "
   ]
  },
  {
   "cell_type": "markdown",
   "metadata": {
    "tags": []
   },
   "source": [
    "### 4.2. Using test case 1, evaluate the effect of integration step `dt`\n",
    "comment on what will happen if `dt` is too small or too large?2 "
   ]
  }
 ],
 "metadata": {
  "kernelspec": {
   "display_name": "Python 3 (ipykernel)",
   "language": "python",
   "name": "python3"
  },
  "language_info": {
   "codemirror_mode": {
    "name": "ipython",
    "version": 3
   },
   "file_extension": ".py",
   "mimetype": "text/x-python",
   "name": "python",
   "nbconvert_exporter": "python",
   "pygments_lexer": "ipython3",
   "version": "3.11.5"
  }
 },
 "nbformat": 4,
 "nbformat_minor": 4
}
